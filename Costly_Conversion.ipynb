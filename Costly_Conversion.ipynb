{
 "cells": [
  {
   "cell_type": "markdown",
   "metadata": {},
   "source": [
    "## Introduction and Problem\n",
    "\n",
    "<font size=\"4\">  A software company is doing A/B testing on two price points 39 dollars vs 59 dollars. The company wants to know if increasing the price of its software would lead to descrease in conversion rate. </font>"
   ]
  },
  {
   "cell_type": "markdown",
   "metadata": {},
   "source": [
    "## Approach\n",
    "\n",
    "<font size=\"4\"> \n",
    "    1. To do Chi-square and Fisher's exact tests to look for association between the price \n",
    "    and the conversion rate.\n",
    "    \n",
    "    2. To do the power analysis test and assess the time point at which weekly rolling sum of \n",
    "    users is stabilized in order to calculate the amount of users needed to do efficient \n",
    "    A/B test without running experinet longer that necessary. \n",
    "    \n",
    "    3. Examine user segments to understand where users convert the most.\n"
   ]
  },
  {
   "cell_type": "markdown",
   "metadata": {},
   "source": [
    "## Results\n",
    "\n",
    "<font size=\"4\"> According to Fisher's exact test there is association between price and conversion rate, howerver, the effect size is very small adn the company would generate more profit by charging at a higher price point. According to the power analysis and the weekly rolling sum of users, the A/B test could have been stoppet on Sunday 2015-03-15. According to segmentation analysis friend referral is the most effective way for user conversion. Also, linux users do not buy this software at a higher price point, while users with other operating systems buy this software at simillar conversion rates for both price points. </font>"
   ]
  },
  {
   "cell_type": "markdown",
   "metadata": {},
   "source": [
    "## Recommendations\n",
    "\n",
    "<font size=\"4\"> I would recommned investing more resources in targeting the developer community by promoting software at conferences and meetups. It could also be effective to target adds at developers. I would suggest giving discounts to linux developers. </font>"
   ]
  },
  {
   "cell_type": "code",
   "execution_count": 1,
   "metadata": {},
   "outputs": [
    {
     "data": {
      "application/vnd.jupyter.widget-view+json": {
       "model_id": "dd9f437bd66641c29971df95caf71c03",
       "version_major": 2,
       "version_minor": 0
      },
      "text/plain": [
       "VBox()"
      ]
     },
     "metadata": {},
     "output_type": "display_data"
    },
    {
     "name": "stdout",
     "output_type": "stream",
     "text": [
      "Starting Spark application\n"
     ]
    },
    {
     "data": {
      "text/html": [
       "<table>\n",
       "<tr><th>ID</th><th>YARN Application ID</th><th>Kind</th><th>State</th><th>Spark UI</th><th>Driver log</th><th>Current session?</th></tr><tr><td>2</td><td>application_1594216179942_0003</td><td>pyspark</td><td>idle</td><td><a target=\"_blank\" href=\"http://ip-172-31-19-41.ec2.internal:20888/proxy/application_1594216179942_0003/\">Link</a></td><td><a target=\"_blank\" href=\"http://ip-172-31-22-59.ec2.internal:8042/node/containerlogs/container_1594216179942_0003_01_000001/livy\">Link</a></td><td>✔</td></tr></table>"
      ],
      "text/plain": [
       "<IPython.core.display.HTML object>"
      ]
     },
     "metadata": {},
     "output_type": "display_data"
    },
    {
     "data": {
      "application/vnd.jupyter.widget-view+json": {
       "model_id": "",
       "version_major": 2,
       "version_minor": 0
      },
      "text/plain": [
       "FloatProgress(value=0.0, bar_style='info', description='Progress:', layout=Layout(height='25px', width='50%'),…"
      ]
     },
     "metadata": {},
     "output_type": "display_data"
    },
    {
     "name": "stdout",
     "output_type": "stream",
     "text": [
      "SparkSession available as 'spark'.\n"
     ]
    },
    {
     "data": {
      "application/vnd.jupyter.widget-view+json": {
       "model_id": "",
       "version_major": 2,
       "version_minor": 0
      },
      "text/plain": [
       "FloatProgress(value=0.0, bar_style='info', description='Progress:', layout=Layout(height='25px', width='50%'),…"
      ]
     },
     "metadata": {},
     "output_type": "display_data"
    },
    {
     "name": "stdout",
     "output_type": "stream",
     "text": [
      "Collecting pandas==1.0.4\n",
      "  Using cached https://files.pythonhosted.org/packages/a4/5f/1b6e0efab4bfb738478919d40b0e3e1a06e3d9996da45eb62a77e9a090d9/pandas-1.0.4-cp37-cp37m-manylinux1_x86_64.whl\n",
      "Requirement already satisfied: pytz>=2017.2 in /usr/local/lib/python3.7/site-packages (from pandas==1.0.4)\n",
      "Requirement already satisfied: numpy>=1.13.3 in /usr/local/lib64/python3.7/site-packages (from pandas==1.0.4)\n",
      "Collecting python-dateutil>=2.6.1 (from pandas==1.0.4)\n",
      "  Using cached https://files.pythonhosted.org/packages/d4/70/d60450c3dd48ef87586924207ae8907090de0b306af2bce5d134d78615cb/python_dateutil-2.8.1-py2.py3-none-any.whl\n",
      "Requirement already satisfied: six>=1.5 in /usr/local/lib/python3.7/site-packages (from python-dateutil>=2.6.1->pandas==1.0.4)\n",
      "Installing collected packages: python-dateutil, pandas\n",
      "Successfully installed pandas-1.0.4 python-dateutil-2.8.1\n",
      "\n",
      "Collecting matplotlib==3.2.1\n",
      "  Using cached https://files.pythonhosted.org/packages/b2/c2/71fcf957710f3ba1f09088b35776a799ba7dd95f7c2b195ec800933b276b/matplotlib-3.2.1-cp37-cp37m-manylinux1_x86_64.whl\n",
      "Requirement already satisfied: python-dateutil>=2.1 in /mnt/tmp/1594226511323-0/lib/python3.7/site-packages (from matplotlib==3.2.1)\n",
      "Collecting pyparsing!=2.0.4,!=2.1.2,!=2.1.6,>=2.0.1 (from matplotlib==3.2.1)\n",
      "  Using cached https://files.pythonhosted.org/packages/8a/bb/488841f56197b13700afd5658fc279a2025a39e22449b7cf29864669b15d/pyparsing-2.4.7-py2.py3-none-any.whl\n",
      "Collecting cycler>=0.10 (from matplotlib==3.2.1)\n",
      "  Using cached https://files.pythonhosted.org/packages/f7/d2/e07d3ebb2bd7af696440ce7e754c59dd546ffe1bbe732c8ab68b9c834e61/cycler-0.10.0-py2.py3-none-any.whl\n",
      "Requirement already satisfied: numpy>=1.11 in /usr/local/lib64/python3.7/site-packages (from matplotlib==3.2.1)\n",
      "Collecting kiwisolver>=1.0.1 (from matplotlib==3.2.1)\n",
      "  Using cached https://files.pythonhosted.org/packages/31/b9/6202dcae729998a0ade30e80ac00f616542ef445b088ec970d407dfd41c0/kiwisolver-1.2.0-cp37-cp37m-manylinux1_x86_64.whl\n",
      "Requirement already satisfied: six>=1.5 in /usr/local/lib/python3.7/site-packages (from python-dateutil>=2.1->matplotlib==3.2.1)\n",
      "Installing collected packages: pyparsing, cycler, kiwisolver, matplotlib\n",
      "Successfully installed cycler-0.10.0 kiwisolver-1.2.0 matplotlib-3.2.1 pyparsing-2.4.7\n",
      "\n",
      "Collecting imblearn==0.0\n",
      "  Using cached https://files.pythonhosted.org/packages/81/a7/4179e6ebfd654bd0eac0b9c06125b8b4c96a9d0a8ff9e9507eb2a26d2d7e/imblearn-0.0-py2.py3-none-any.whl\n",
      "Collecting imbalanced-learn (from imblearn==0.0)\n",
      "  Using cached https://files.pythonhosted.org/packages/c8/81/8db4d87b03b998fda7c6f835d807c9ae4e3b141f978597b8d7f31600be15/imbalanced_learn-0.7.0-py3-none-any.whl\n",
      "Collecting joblib>=0.11 (from imbalanced-learn->imblearn==0.0)\n",
      "  Using cached https://files.pythonhosted.org/packages/51/dd/0e015051b4a27ec5a58b02ab774059f3289a94b0906f880a3f9507e74f38/joblib-0.16.0-py3-none-any.whl\n",
      "Collecting scipy>=0.19.1 (from imbalanced-learn->imblearn==0.0)\n",
      "  Using cached https://files.pythonhosted.org/packages/30/45/ff9df4beceab76f979ee0ea7f5d248596aa5b0c179aa3d30589a3f4549eb/scipy-1.5.1-cp37-cp37m-manylinux1_x86_64.whl\n",
      "Requirement already satisfied: numpy>=1.13.3 in /usr/local/lib64/python3.7/site-packages (from imbalanced-learn->imblearn==0.0)\n",
      "Collecting scikit-learn>=0.23 (from imbalanced-learn->imblearn==0.0)\n",
      "  Using cached https://files.pythonhosted.org/packages/b8/7e/74e707b66490d4eb05f702966ad0990881127acecf9d5cdcef3c95ec6c16/scikit_learn-0.23.1-cp37-cp37m-manylinux1_x86_64.whl\n",
      "Collecting threadpoolctl>=2.0.0 (from scikit-learn>=0.23->imbalanced-learn->imblearn==0.0)\n",
      "  Using cached https://files.pythonhosted.org/packages/f7/12/ec3f2e203afa394a149911729357aa48affc59c20e2c1c8297a60f33f133/threadpoolctl-2.1.0-py3-none-any.whl\n",
      "Installing collected packages: joblib, scipy, threadpoolctl, scikit-learn, imbalanced-learn, imblearn\n",
      "Successfully installed imbalanced-learn-0.7.0 imblearn-0.0 joblib-0.16.0 scikit-learn-0.23.1 scipy-1.5.1 threadpoolctl-2.1.0\n",
      "\n",
      "Requirement already satisfied: scikit-learn==0.23.1 in /mnt/tmp/1594226511323-0/lib/python3.7/site-packages\n",
      "Requirement already satisfied: scipy>=0.19.1 in /mnt/tmp/1594226511323-0/lib/python3.7/site-packages (from scikit-learn==0.23.1)\n",
      "Requirement already satisfied: numpy>=1.13.3 in /usr/local/lib64/python3.7/site-packages (from scikit-learn==0.23.1)\n",
      "Requirement already satisfied: joblib>=0.11 in /mnt/tmp/1594226511323-0/lib/python3.7/site-packages (from scikit-learn==0.23.1)\n",
      "Requirement already satisfied: threadpoolctl>=2.0.0 in /mnt/tmp/1594226511323-0/lib/python3.7/site-packages (from scikit-learn==0.23.1)\n",
      "\n",
      "Collecting sklearn==0.0\n",
      "Requirement already satisfied: scikit-learn in /mnt/tmp/1594226511323-0/lib/python3.7/site-packages (from sklearn==0.0)\n",
      "Requirement already satisfied: scipy>=0.19.1 in /mnt/tmp/1594226511323-0/lib/python3.7/site-packages (from scikit-learn->sklearn==0.0)\n",
      "Requirement already satisfied: numpy>=1.13.3 in /usr/local/lib64/python3.7/site-packages (from scikit-learn->sklearn==0.0)\n",
      "Requirement already satisfied: joblib>=0.11 in /mnt/tmp/1594226511323-0/lib/python3.7/site-packages (from scikit-learn->sklearn==0.0)\n",
      "Requirement already satisfied: threadpoolctl>=2.0.0 in /mnt/tmp/1594226511323-0/lib/python3.7/site-packages (from scikit-learn->sklearn==0.0)\n",
      "Installing collected packages: sklearn\n",
      "Successfully installed sklearn-0.0\n",
      "\n",
      "Collecting boto3==1.13\n",
      "  Using cached https://files.pythonhosted.org/packages/73/db/c8902630b9a8ad3d17cb3de9ee347fe917094ec0fecd8e451076bbe1b4e0/boto3-1.13.0-py2.py3-none-any.whl\n",
      "Collecting s3transfer<0.4.0,>=0.3.0 (from boto3==1.13)\n",
      "  Using cached https://files.pythonhosted.org/packages/69/79/e6afb3d8b0b4e96cefbdc690f741d7dd24547ff1f94240c997a26fa908d3/s3transfer-0.3.3-py2.py3-none-any.whl\n",
      "Requirement already satisfied: jmespath<1.0.0,>=0.7.1 in /usr/local/lib/python3.7/site-packages (from boto3==1.13)\n",
      "Collecting botocore<1.17.0,>=1.16.0 (from boto3==1.13)\n",
      "  Using cached https://files.pythonhosted.org/packages/d4/b0/9ff467a3318aca0dcf83feafe6e5ef737f17d1ed5348412913ae0b35907a/botocore-1.16.26-py2.py3-none-any.whl\n",
      "Collecting urllib3<1.26,>=1.20; python_version != \"3.4\" (from botocore<1.17.0,>=1.16.0->boto3==1.13)\n",
      "  Using cached https://files.pythonhosted.org/packages/e1/e5/df302e8017440f111c11cc41a6b432838672f5a70aa29227bf58149dc72f/urllib3-1.25.9-py2.py3-none-any.whl\n",
      "Requirement already satisfied: python-dateutil<3.0.0,>=2.1 in /mnt/tmp/1594226511323-0/lib/python3.7/site-packages (from botocore<1.17.0,>=1.16.0->boto3==1.13)\n",
      "Collecting docutils<0.16,>=0.10 (from botocore<1.17.0,>=1.16.0->boto3==1.13)\n",
      "  Using cached https://files.pythonhosted.org/packages/22/cd/a6aa959dca619918ccb55023b4cb151949c64d4d5d55b3f4ffd7eee0c6e8/docutils-0.15.2-py3-none-any.whl\n",
      "Requirement already satisfied: six>=1.5 in /usr/local/lib/python3.7/site-packages (from python-dateutil<3.0.0,>=2.1->botocore<1.17.0,>=1.16.0->boto3==1.13)\n",
      "Installing collected packages: urllib3, docutils, botocore, s3transfer, boto3\n",
      "Successfully installed boto3-1.13.0 botocore-1.16.26 docutils-0.15.2 s3transfer-0.3.3 urllib3-1.25.9\n",
      "\n",
      "Collecting seaborn==0.10.1\n",
      "  Using cached https://files.pythonhosted.org/packages/c7/e6/54aaaafd0b87f51dfba92ba73da94151aa3bc179e5fe88fc5dfb3038e860/seaborn-0.10.1-py3-none-any.whl\n",
      "Requirement already satisfied: pandas>=0.22.0 in /mnt/tmp/1594226511323-0/lib/python3.7/site-packages (from seaborn==0.10.1)\n",
      "Requirement already satisfied: numpy>=1.13.3 in /usr/local/lib64/python3.7/site-packages (from seaborn==0.10.1)\n",
      "Requirement already satisfied: scipy>=1.0.1 in /mnt/tmp/1594226511323-0/lib/python3.7/site-packages (from seaborn==0.10.1)\n",
      "Requirement already satisfied: matplotlib>=2.1.2 in /mnt/tmp/1594226511323-0/lib/python3.7/site-packages (from seaborn==0.10.1)\n",
      "Requirement already satisfied: pytz>=2017.2 in /usr/local/lib/python3.7/site-packages (from pandas>=0.22.0->seaborn==0.10.1)\n",
      "Requirement already satisfied: python-dateutil>=2.6.1 in /mnt/tmp/1594226511323-0/lib/python3.7/site-packages (from pandas>=0.22.0->seaborn==0.10.1)\n",
      "Requirement already satisfied: pyparsing!=2.0.4,!=2.1.2,!=2.1.6,>=2.0.1 in /mnt/tmp/1594226511323-0/lib/python3.7/site-packages (from matplotlib>=2.1.2->seaborn==0.10.1)\n",
      "Requirement already satisfied: cycler>=0.10 in /mnt/tmp/1594226511323-0/lib/python3.7/site-packages (from matplotlib>=2.1.2->seaborn==0.10.1)\n",
      "Requirement already satisfied: kiwisolver>=1.0.1 in /mnt/tmp/1594226511323-0/lib/python3.7/site-packages (from matplotlib>=2.1.2->seaborn==0.10.1)\n",
      "Requirement already satisfied: six>=1.5 in /usr/local/lib/python3.7/site-packages (from python-dateutil>=2.6.1->pandas>=0.22.0->seaborn==0.10.1)\n",
      "Installing collected packages: seaborn\n",
      "Successfully installed seaborn-0.10.1\n",
      "\n",
      "Requirement already satisfied: scipy==1.5.1 in /mnt/tmp/1594226511323-0/lib/python3.7/site-packages\n",
      "Requirement already satisfied: numpy>=1.14.5 in /usr/local/lib64/python3.7/site-packages (from scipy==1.5.1)\n",
      "\n",
      "Collecting statsmodels==0.11.1\n",
      "  Using cached https://files.pythonhosted.org/packages/7b/6a/0bf4184c3fb6f9f43df997b88de5784b4cb2f6bd19a5dc213463971076cf/statsmodels-0.11.1-cp37-cp37m-manylinux1_x86_64.whl\n",
      "Requirement already satisfied: scipy>=1.0 in /mnt/tmp/1594226511323-0/lib/python3.7/site-packages (from statsmodels==0.11.1)\n",
      "Requirement already satisfied: pandas>=0.21 in /mnt/tmp/1594226511323-0/lib/python3.7/site-packages (from statsmodels==0.11.1)\n",
      "Requirement already satisfied: numpy>=1.14 in /usr/local/lib64/python3.7/site-packages (from statsmodels==0.11.1)\n",
      "Collecting patsy>=0.5 (from statsmodels==0.11.1)\n",
      "  Using cached https://files.pythonhosted.org/packages/ea/0c/5f61f1a3d4385d6bf83b83ea495068857ff8dfb89e74824c6e9eb63286d8/patsy-0.5.1-py2.py3-none-any.whl\n",
      "Requirement already satisfied: pytz>=2017.2 in /usr/local/lib/python3.7/site-packages (from pandas>=0.21->statsmodels==0.11.1)\n",
      "Requirement already satisfied: python-dateutil>=2.6.1 in /mnt/tmp/1594226511323-0/lib/python3.7/site-packages (from pandas>=0.21->statsmodels==0.11.1)\n",
      "Requirement already satisfied: six in /usr/local/lib/python3.7/site-packages (from patsy>=0.5->statsmodels==0.11.1)\n",
      "Installing collected packages: patsy, statsmodels\n",
      "Successfully installed patsy-0.5.1 statsmodels-0.11.1"
     ]
    }
   ],
   "source": [
    "# installing packages\n",
    "sc.install_pypi_package(\"pandas==1.0.4\")\n",
    "sc.install_pypi_package(\"matplotlib==3.2.1\")\n",
    "sc.install_pypi_package(\"imblearn==0.0\")\n",
    "sc.install_pypi_package(\"scikit-learn==0.23.1\")\n",
    "sc.install_pypi_package(\"sklearn==0.0\")\n",
    "sc.install_pypi_package(\"boto3==1.13\")\n",
    "sc.install_pypi_package(\"seaborn==0.10.1\")\n",
    "sc.install_pypi_package(\"scipy==1.5.1\")\n",
    "sc.install_pypi_package(\"statsmodels==0.11.1\")"
   ]
  },
  {
   "cell_type": "code",
   "execution_count": 2,
   "metadata": {},
   "outputs": [
    {
     "data": {
      "application/vnd.jupyter.widget-view+json": {
       "model_id": "16810e90838f451dbf7b8f2f30af7c46",
       "version_major": 2,
       "version_minor": 0
      },
      "text/plain": [
       "VBox()"
      ]
     },
     "metadata": {},
     "output_type": "display_data"
    },
    {
     "data": {
      "application/vnd.jupyter.widget-view+json": {
       "model_id": "",
       "version_major": 2,
       "version_minor": 0
      },
      "text/plain": [
       "FloatProgress(value=0.0, bar_style='info', description='Progress:', layout=Layout(height='25px', width='50%'),…"
      ]
     },
     "metadata": {},
     "output_type": "display_data"
    }
   ],
   "source": [
    "# Setting up pySpark session\n",
    "import sys\n",
    "import pandas as pd\n",
    "from pyspark.sql import SparkSession\n",
    "# create sparksession\n",
    "spark = SparkSession \\\n",
    "    .builder \\\n",
    "    .appName(\"insight\") \\\n",
    "    .getOrCreate()\n",
    "test_res = spark.read.option(\"inferSchema\", \"true\").option(\"header\", True).option(\"dateFormat\", \"mmddyyHHss\").option(\"delimiter\",\",\").csv(\"s3://costly-conversion/test_results.csv\")\n",
    "user_tab = spark.read.option(\"inferSchema\", \"true\").option(\"header\", True).option(\"dateFormat\", \"mmddyy\").option(\"delimiter\",\",\").csv(\"s3://costly-conversion/user_table.csv\")\n",
    "\n"
   ]
  },
  {
   "cell_type": "code",
   "execution_count": 3,
   "metadata": {},
   "outputs": [
    {
     "data": {
      "application/vnd.jupyter.widget-view+json": {
       "model_id": "fc837671bfaf4a5fa87e97a194ddaa8b",
       "version_major": 2,
       "version_minor": 0
      },
      "text/plain": [
       "VBox()"
      ]
     },
     "metadata": {},
     "output_type": "display_data"
    },
    {
     "data": {
      "application/vnd.jupyter.widget-view+json": {
       "model_id": "",
       "version_major": 2,
       "version_minor": 0
      },
      "text/plain": [
       "FloatProgress(value=0.0, bar_style='info', description='Progress:', layout=Layout(height='25px', width='50%'),…"
      ]
     },
     "metadata": {},
     "output_type": "display_data"
    },
    {
     "name": "stdout",
     "output_type": "stream",
     "text": [
      "+-------+-------------------+--------------+------+----------------+----+-----+---------+\n",
      "|user_id|          timestamp|        source|device|operative_system|test|price|converted|\n",
      "+-------+-------------------+--------------+------+----------------+----+-----+---------+\n",
      "| 604839|2015-05-08 03:38:34|  ads_facebook|mobile|             iOS|   0|   39|        0|\n",
      "| 624057|2015-05-10 21:08:46|    seo-google|mobile|         android|   0|   39|        0|\n",
      "| 317970|2015-04-04 15:01:23|      ads-bing|mobile|         android|   0|   39|        0|\n",
      "| 685636|2015-05-07 07:26:01|direct_traffic|mobile|             iOS|   1|   59|        0|\n",
      "+-------+-------------------+--------------+------+----------------+----+-----+---------+\n",
      "only showing top 4 rows"
     ]
    }
   ],
   "source": [
    "test_res.show(4)"
   ]
  },
  {
   "cell_type": "code",
   "execution_count": 4,
   "metadata": {},
   "outputs": [
    {
     "data": {
      "application/vnd.jupyter.widget-view+json": {
       "model_id": "a85dbb051bab460f9a6cff81d21a838d",
       "version_major": 2,
       "version_minor": 0
      },
      "text/plain": [
       "VBox()"
      ]
     },
     "metadata": {},
     "output_type": "display_data"
    },
    {
     "data": {
      "application/vnd.jupyter.widget-view+json": {
       "model_id": "",
       "version_major": 2,
       "version_minor": 0
      },
      "text/plain": [
       "FloatProgress(value=0.0, bar_style='info', description='Progress:', layout=Layout(height='25px', width='50%'),…"
      ]
     },
     "metadata": {},
     "output_type": "display_data"
    },
    {
     "name": "stdout",
     "output_type": "stream",
     "text": [
      "+-------+-----------+-------+-----+-------+\n",
      "|user_id|       city|country|  lat|   long|\n",
      "+-------+-----------+-------+-----+-------+\n",
      "| 510335|    Peabody|    USA|42.53| -70.97|\n",
      "|  89568|       Reno|    USA|39.54|-119.82|\n",
      "| 434134|     Rialto|    USA|34.11|-117.39|\n",
      "| 289769|Carson City|    USA|39.15|-119.74|\n",
      "+-------+-----------+-------+-----+-------+\n",
      "only showing top 4 rows"
     ]
    }
   ],
   "source": [
    "user_tab.show(4)"
   ]
  },
  {
   "cell_type": "code",
   "execution_count": 5,
   "metadata": {},
   "outputs": [
    {
     "data": {
      "application/vnd.jupyter.widget-view+json": {
       "model_id": "1b0b9765d1734ca3adb24a5e47edb468",
       "version_major": 2,
       "version_minor": 0
      },
      "text/plain": [
       "VBox()"
      ]
     },
     "metadata": {},
     "output_type": "display_data"
    },
    {
     "data": {
      "application/vnd.jupyter.widget-view+json": {
       "model_id": "",
       "version_major": 2,
       "version_minor": 0
      },
      "text/plain": [
       "FloatProgress(value=0.0, bar_style='info', description='Progress:', layout=Layout(height='25px', width='50%'),…"
      ]
     },
     "metadata": {},
     "output_type": "display_data"
    },
    {
     "name": "stdout",
     "output_type": "stream",
     "text": [
      "316800"
     ]
    }
   ],
   "source": [
    "test_res.select(\"user_id\").distinct().count()"
   ]
  },
  {
   "cell_type": "code",
   "execution_count": 6,
   "metadata": {},
   "outputs": [
    {
     "data": {
      "application/vnd.jupyter.widget-view+json": {
       "model_id": "51d1c0efe9cf48298bbd039dd8aa1ba5",
       "version_major": 2,
       "version_minor": 0
      },
      "text/plain": [
       "VBox()"
      ]
     },
     "metadata": {},
     "output_type": "display_data"
    },
    {
     "data": {
      "application/vnd.jupyter.widget-view+json": {
       "model_id": "",
       "version_major": 2,
       "version_minor": 0
      },
      "text/plain": [
       "FloatProgress(value=0.0, bar_style='info', description='Progress:', layout=Layout(height='25px', width='50%'),…"
      ]
     },
     "metadata": {},
     "output_type": "display_data"
    },
    {
     "name": "stdout",
     "output_type": "stream",
     "text": [
      "316800"
     ]
    }
   ],
   "source": [
    "test_res.select(\"user_id\").count()"
   ]
  },
  {
   "cell_type": "code",
   "execution_count": 7,
   "metadata": {},
   "outputs": [
    {
     "data": {
      "application/vnd.jupyter.widget-view+json": {
       "model_id": "07df568e1ddc444dbec88f4dd305ad7c",
       "version_major": 2,
       "version_minor": 0
      },
      "text/plain": [
       "VBox()"
      ]
     },
     "metadata": {},
     "output_type": "display_data"
    },
    {
     "data": {
      "application/vnd.jupyter.widget-view+json": {
       "model_id": "",
       "version_major": 2,
       "version_minor": 0
      },
      "text/plain": [
       "FloatProgress(value=0.0, bar_style='info', description='Progress:', layout=Layout(height='25px', width='50%'),…"
      ]
     },
     "metadata": {},
     "output_type": "display_data"
    },
    {
     "name": "stdout",
     "output_type": "stream",
     "text": [
      "275616"
     ]
    }
   ],
   "source": [
    "user_tab.select(\"user_id\").count()"
   ]
  },
  {
   "cell_type": "code",
   "execution_count": 8,
   "metadata": {},
   "outputs": [
    {
     "data": {
      "application/vnd.jupyter.widget-view+json": {
       "model_id": "b0b8eed29c74418b91f8b2dcda18963e",
       "version_major": 2,
       "version_minor": 0
      },
      "text/plain": [
       "VBox()"
      ]
     },
     "metadata": {},
     "output_type": "display_data"
    },
    {
     "data": {
      "application/vnd.jupyter.widget-view+json": {
       "model_id": "",
       "version_major": 2,
       "version_minor": 0
      },
      "text/plain": [
       "FloatProgress(value=0.0, bar_style='info', description='Progress:', layout=Layout(height='25px', width='50%'),…"
      ]
     },
     "metadata": {},
     "output_type": "display_data"
    },
    {
     "name": "stdout",
     "output_type": "stream",
     "text": [
      "275616"
     ]
    }
   ],
   "source": [
    "user_tab.select(\"user_id\").distinct().count()"
   ]
  },
  {
   "cell_type": "code",
   "execution_count": 9,
   "metadata": {},
   "outputs": [
    {
     "data": {
      "application/vnd.jupyter.widget-view+json": {
       "model_id": "443dbff879584d75aaa1daaab415ff85",
       "version_major": 2,
       "version_minor": 0
      },
      "text/plain": [
       "VBox()"
      ]
     },
     "metadata": {},
     "output_type": "display_data"
    },
    {
     "data": {
      "application/vnd.jupyter.widget-view+json": {
       "model_id": "",
       "version_major": 2,
       "version_minor": 0
      },
      "text/plain": [
       "FloatProgress(value=0.0, bar_style='info', description='Progress:', layout=Layout(height='25px', width='50%'),…"
      ]
     },
     "metadata": {},
     "output_type": "display_data"
    },
    {
     "name": "stdout",
     "output_type": "stream",
     "text": [
      "root\n",
      " |-- user_id: integer (nullable = true)\n",
      " |-- city: string (nullable = true)\n",
      " |-- country: string (nullable = true)\n",
      " |-- lat: double (nullable = true)\n",
      " |-- long: double (nullable = true)"
     ]
    }
   ],
   "source": [
    "user_tab.printSchema()"
   ]
  },
  {
   "cell_type": "code",
   "execution_count": 10,
   "metadata": {},
   "outputs": [
    {
     "data": {
      "application/vnd.jupyter.widget-view+json": {
       "model_id": "42abd4b6521a426c934cc295547a7655",
       "version_major": 2,
       "version_minor": 0
      },
      "text/plain": [
       "VBox()"
      ]
     },
     "metadata": {},
     "output_type": "display_data"
    },
    {
     "data": {
      "application/vnd.jupyter.widget-view+json": {
       "model_id": "",
       "version_major": 2,
       "version_minor": 0
      },
      "text/plain": [
       "FloatProgress(value=0.0, bar_style='info', description='Progress:', layout=Layout(height='25px', width='50%'),…"
      ]
     },
     "metadata": {},
     "output_type": "display_data"
    }
   ],
   "source": [
    "joined = test_res.join(user_tab,on=['user_id'],how='full')\n"
   ]
  },
  {
   "cell_type": "code",
   "execution_count": 11,
   "metadata": {},
   "outputs": [
    {
     "data": {
      "application/vnd.jupyter.widget-view+json": {
       "model_id": "93f66c1de30c4145a3eb71a9abcd65a0",
       "version_major": 2,
       "version_minor": 0
      },
      "text/plain": [
       "VBox()"
      ]
     },
     "metadata": {},
     "output_type": "display_data"
    },
    {
     "data": {
      "application/vnd.jupyter.widget-view+json": {
       "model_id": "",
       "version_major": 2,
       "version_minor": 0
      },
      "text/plain": [
       "FloatProgress(value=0.0, bar_style='info', description='Progress:', layout=Layout(height='25px', width='50%'),…"
      ]
     },
     "metadata": {},
     "output_type": "display_data"
    }
   ],
   "source": [
    "drop1= ['lat', 'long']\n",
    "joined = joined.drop(*drop1)"
   ]
  },
  {
   "cell_type": "code",
   "execution_count": 12,
   "metadata": {},
   "outputs": [
    {
     "data": {
      "application/vnd.jupyter.widget-view+json": {
       "model_id": "a4253a5f7f7f4012a83f93f07528e925",
       "version_major": 2,
       "version_minor": 0
      },
      "text/plain": [
       "VBox()"
      ]
     },
     "metadata": {},
     "output_type": "display_data"
    },
    {
     "data": {
      "application/vnd.jupyter.widget-view+json": {
       "model_id": "",
       "version_major": 2,
       "version_minor": 0
      },
      "text/plain": [
       "FloatProgress(value=0.0, bar_style='info', description='Progress:', layout=Layout(height='25px', width='50%'),…"
      ]
     },
     "metadata": {},
     "output_type": "display_data"
    },
    {
     "name": "stdout",
     "output_type": "stream",
     "text": [
      "+-------+-------------------+--------------+------+----------------+----+-----+---------+------------+-------+\n",
      "|user_id|          timestamp|        source|device|operative_system|test|price|converted|        city|country|\n",
      "+-------+-------------------+--------------+------+----------------+----+-----+---------+------------+-------+\n",
      "|    122|2015-05-06 08:07:23|      ads-bing|mobile|         android|   0|   39|        0|   Inglewood|    USA|\n",
      "|    148|2015-04-26 08:43:44|     ads_other|   web|         windows|   0|   39|        0|Jacksonville|    USA|\n",
      "|    192|2015-04-04 18:08:30|    ads-google|   web|             mac|   0|   39|        0|    Freeport|    USA|\n",
      "|    243|2015-04-02 14:40:35|    seo-google|   web|         windows|   0|   39|        0|  Richardson|    USA|\n",
      "|    444|2015-05-01 13:05:47|direct_traffic|mobile|           other|   0|   39|        0|    New York|    USA|\n",
      "+-------+-------------------+--------------+------+----------------+----+-----+---------+------------+-------+\n",
      "only showing top 5 rows"
     ]
    }
   ],
   "source": [
    "joined.show(5)"
   ]
  },
  {
   "cell_type": "code",
   "execution_count": 13,
   "metadata": {},
   "outputs": [
    {
     "data": {
      "application/vnd.jupyter.widget-view+json": {
       "model_id": "b7129a2275624066808778de1a52a5b6",
       "version_major": 2,
       "version_minor": 0
      },
      "text/plain": [
       "VBox()"
      ]
     },
     "metadata": {},
     "output_type": "display_data"
    },
    {
     "data": {
      "application/vnd.jupyter.widget-view+json": {
       "model_id": "",
       "version_major": 2,
       "version_minor": 0
      },
      "text/plain": [
       "FloatProgress(value=0.0, bar_style='info', description='Progress:', layout=Layout(height='25px', width='50%'),…"
      ]
     },
     "metadata": {},
     "output_type": "display_data"
    },
    {
     "name": "stdout",
     "output_type": "stream",
     "text": [
      "+------+\n",
      "|device|\n",
      "+------+\n",
      "|mobile|\n",
      "|   web|\n",
      "+------+"
     ]
    }
   ],
   "source": [
    "joined.select(\"device\").distinct().show(20)"
   ]
  },
  {
   "cell_type": "code",
   "execution_count": 14,
   "metadata": {},
   "outputs": [
    {
     "data": {
      "application/vnd.jupyter.widget-view+json": {
       "model_id": "a3ec11a4ed984406bccb1c6527cbe644",
       "version_major": 2,
       "version_minor": 0
      },
      "text/plain": [
       "VBox()"
      ]
     },
     "metadata": {},
     "output_type": "display_data"
    },
    {
     "data": {
      "application/vnd.jupyter.widget-view+json": {
       "model_id": "",
       "version_major": 2,
       "version_minor": 0
      },
      "text/plain": [
       "FloatProgress(value=0.0, bar_style='info', description='Progress:', layout=Layout(height='25px', width='50%'),…"
      ]
     },
     "metadata": {},
     "output_type": "display_data"
    },
    {
     "name": "stdout",
     "output_type": "stream",
     "text": [
      "user_id: 0\n",
      "timestamp: 0\n",
      "source: 0\n",
      "device: 0\n",
      "operative_system: 0\n",
      "test: 0\n",
      "price: 0\n",
      "converted: 0\n",
      "city: 41184\n",
      "country: 41184"
     ]
    }
   ],
   "source": [
    "_cols = joined.columns\n",
    "joined_cleaned = joined\n",
    "for _c in _cols:\n",
    "    count = joined_cleaned.where(joined_cleaned[_c]. isNull()).count()\n",
    "    print(f\"{_c}: {count}\")"
   ]
  },
  {
   "cell_type": "code",
   "execution_count": 15,
   "metadata": {},
   "outputs": [
    {
     "data": {
      "application/vnd.jupyter.widget-view+json": {
       "model_id": "3235d43626224089b18e200ad84e5b49",
       "version_major": 2,
       "version_minor": 0
      },
      "text/plain": [
       "VBox()"
      ]
     },
     "metadata": {},
     "output_type": "display_data"
    },
    {
     "data": {
      "application/vnd.jupyter.widget-view+json": {
       "model_id": "",
       "version_major": 2,
       "version_minor": 0
      },
      "text/plain": [
       "FloatProgress(value=0.0, bar_style='info', description='Progress:', layout=Layout(height='25px', width='50%'),…"
      ]
     },
     "metadata": {},
     "output_type": "display_data"
    }
   ],
   "source": [
    "from pyspark.sql.functions import to_date, col, date_format\n",
    "joined1 = joined.withColumn(\"timestamp\", to_date(col(\"timestamp\")))\n"
   ]
  },
  {
   "cell_type": "code",
   "execution_count": 16,
   "metadata": {},
   "outputs": [
    {
     "data": {
      "application/vnd.jupyter.widget-view+json": {
       "model_id": "da1b56ebc3c343589af735a84d0c37c8",
       "version_major": 2,
       "version_minor": 0
      },
      "text/plain": [
       "VBox()"
      ]
     },
     "metadata": {},
     "output_type": "display_data"
    },
    {
     "data": {
      "application/vnd.jupyter.widget-view+json": {
       "model_id": "",
       "version_major": 2,
       "version_minor": 0
      },
      "text/plain": [
       "FloatProgress(value=0.0, bar_style='info', description='Progress:', layout=Layout(height='25px', width='50%'),…"
      ]
     },
     "metadata": {},
     "output_type": "display_data"
    },
    {
     "name": "stdout",
     "output_type": "stream",
     "text": [
      "+-------+----------+--------------+------+----------------+----+-----+---------+------------+-------+\n",
      "|user_id| timestamp|        source|device|operative_system|test|price|converted|        city|country|\n",
      "+-------+----------+--------------+------+----------------+----+-----+---------+------------+-------+\n",
      "|    122|2015-05-06|      ads-bing|mobile|         android|   0|   39|        0|   Inglewood|    USA|\n",
      "|    148|2015-04-26|     ads_other|   web|         windows|   0|   39|        0|Jacksonville|    USA|\n",
      "|    192|2015-04-04|    ads-google|   web|             mac|   0|   39|        0|    Freeport|    USA|\n",
      "|    243|2015-04-02|    seo-google|   web|         windows|   0|   39|        0|  Richardson|    USA|\n",
      "|    444|2015-05-01|direct_traffic|mobile|           other|   0|   39|        0|    New York|    USA|\n",
      "+-------+----------+--------------+------+----------------+----+-----+---------+------------+-------+\n",
      "only showing top 5 rows"
     ]
    }
   ],
   "source": [
    "joined1.show(5)"
   ]
  },
  {
   "cell_type": "code",
   "execution_count": 17,
   "metadata": {},
   "outputs": [
    {
     "data": {
      "application/vnd.jupyter.widget-view+json": {
       "model_id": "f5001d8c1d8443899f0dff77518990d8",
       "version_major": 2,
       "version_minor": 0
      },
      "text/plain": [
       "VBox()"
      ]
     },
     "metadata": {},
     "output_type": "display_data"
    },
    {
     "data": {
      "application/vnd.jupyter.widget-view+json": {
       "model_id": "",
       "version_major": 2,
       "version_minor": 0
      },
      "text/plain": [
       "FloatProgress(value=0.0, bar_style='info', description='Progress:', layout=Layout(height='25px', width='50%'),…"
      ]
     },
     "metadata": {},
     "output_type": "display_data"
    },
    {
     "name": "stdout",
     "output_type": "stream",
     "text": [
      "+----------+----+---------+-----+\n",
      "| timestamp|test|converted|count|\n",
      "+----------+----+---------+-----+\n",
      "|2015-03-02|   0|        1|   18|\n",
      "|2015-03-02|   1|        0|  569|\n",
      "|2015-03-02|   0|        0|  993|\n",
      "|2015-03-02|   1|        1|    9|\n",
      "|2015-03-03|   0|        0|  896|\n",
      "+----------+----+---------+-----+\n",
      "only showing top 5 rows"
     ]
    }
   ],
   "source": [
    "#counting instances that are grouped by timestamp, test ($39 or $59), and converted (0-no, 1-yes)\n",
    "#sorted by timestamp\n",
    "time = joined1.groupBy(\"timestamp\", \"test\", \"converted\").count().sort(\"timestamp\")\n",
    "time.show(5)"
   ]
  },
  {
   "cell_type": "code",
   "execution_count": 18,
   "metadata": {},
   "outputs": [
    {
     "data": {
      "application/vnd.jupyter.widget-view+json": {
       "model_id": "d02df9a0c71345fc93019391815fade4",
       "version_major": 2,
       "version_minor": 0
      },
      "text/plain": [
       "VBox()"
      ]
     },
     "metadata": {},
     "output_type": "display_data"
    },
    {
     "data": {
      "application/vnd.jupyter.widget-view+json": {
       "model_id": "",
       "version_major": 2,
       "version_minor": 0
      },
      "text/plain": [
       "FloatProgress(value=0.0, bar_style='info', description='Progress:', layout=Layout(height='25px', width='50%'),…"
      ]
     },
     "metadata": {},
     "output_type": "display_data"
    },
    {
     "name": "stdout",
     "output_type": "stream",
     "text": [
      "+----------+----+---------+-----+------------+--------------+\n",
      "| timestamp|test|converted|count|weekly_total|weekday_number|\n",
      "+----------+----+---------+-----+------------+--------------+\n",
      "|2015-03-02|   1|        1|    9|        1589|             1|\n",
      "|2015-03-09|   1|        1|   10|        5958|             1|\n",
      "|2015-03-16|   1|        1|    5|        5454|             1|\n",
      "|2015-03-23|   1|        1|    8|        5727|             1|\n",
      "|2015-03-30|   1|        1|    7|        5811|             1|\n",
      "|2015-04-06|   1|        1|   12|        5588|             1|\n",
      "|2015-04-13|   1|        1|    6|        5968|             1|\n",
      "|2015-04-20|   1|        1|    4|        5751|             1|\n",
      "|2015-04-27|   1|        1|    8|        5855|             1|\n",
      "|2015-05-04|   1|        1|    9|        5805|             1|\n",
      "|2015-05-11|   1|        1|    6|        5770|             1|\n",
      "|2015-05-18|   1|        1|   10|        5777|             1|\n",
      "|2015-05-25|   1|        1|    4|        5584|             1|\n",
      "+----------+----+---------+-----+------------+--------------+"
     ]
    }
   ],
   "source": [
    "# summing counts of *time* table by rolling window of 7 days which results in weeklt_total column\n",
    "from pyspark.sql.functions import sum\n",
    "from pyspark.sql.window import Window\n",
    "\n",
    "w = Window.orderBy(col(\"timestamp\"),col(\"test\"), col(\"converted\")).rowsBetween(-7, 0)\n",
    "weekly_total = time.withColumn('weekly_total', sum(\"count\").over(w))\n",
    "weekly_total = weekly_total.withColumn(\"weekday_number\",date_format(col(\"timestamp\"), \"u\"))\n",
    "weekly_total.filter(\"weekday_number==1 and test==1 and converted==1\").sort(\"timestamp\",\"converted\").show(40)\n"
   ]
  },
  {
   "cell_type": "code",
   "execution_count": 19,
   "metadata": {},
   "outputs": [
    {
     "data": {
      "application/vnd.jupyter.widget-view+json": {
       "model_id": "27f4959c1d364fa9823828569759a409",
       "version_major": 2,
       "version_minor": 0
      },
      "text/plain": [
       "VBox()"
      ]
     },
     "metadata": {},
     "output_type": "display_data"
    },
    {
     "data": {
      "application/vnd.jupyter.widget-view+json": {
       "model_id": "",
       "version_major": 2,
       "version_minor": 0
      },
      "text/plain": [
       "FloatProgress(value=0.0, bar_style='info', description='Progress:', layout=Layout(height='25px', width='50%'),…"
      ]
     },
     "metadata": {},
     "output_type": "display_data"
    },
    {
     "data": {
      "image/png": "[encoded data removed]",
      "text/plain": [
       "<IPython.core.display.Image object>"
      ]
     },
     "metadata": {},
     "output_type": "display_data"
    }
   ],
   "source": [
    "# plotting weekly_totals by test and convertion \n",
    "import seaborn as sns\n",
    "import matplotlib.pyplot as plt\n",
    "plt.clf()\n",
    "weekly_total_pd = weekly_total.filter('weekday_number == 1').toPandas()\n",
    "g = sns.FacetGrid(weekly_total_pd, col=\"test\", row =\"converted\")\n",
    "g.map(sns.lineplot, \"timestamp\", \"weekly_total\")\n",
    "plt.xticks(rotation=45)\n",
    "plt.tight_layout()\n",
    "plt.show()\n",
    "%matplot plt"
   ]
  },
  {
   "cell_type": "code",
   "execution_count": 20,
   "metadata": {},
   "outputs": [
    {
     "data": {
      "application/vnd.jupyter.widget-view+json": {
       "model_id": "8967f514a00841178f7116b5a33892f8",
       "version_major": 2,
       "version_minor": 0
      },
      "text/plain": [
       "VBox()"
      ]
     },
     "metadata": {},
     "output_type": "display_data"
    },
    {
     "data": {
      "application/vnd.jupyter.widget-view+json": {
       "model_id": "",
       "version_major": 2,
       "version_minor": 0
      },
      "text/plain": [
       "FloatProgress(value=0.0, bar_style='info', description='Progress:', layout=Layout(height='25px', width='50%'),…"
      ]
     },
     "metadata": {},
     "output_type": "display_data"
    },
    {
     "name": "stdout",
     "output_type": "stream",
     "text": [
      "+----+---------+------+\n",
      "|test|converted| count|\n",
      "+----+---------+------+\n",
      "|   0|        1|  4035|\n",
      "|   0|        0|198692|\n",
      "|   1|        1|  1773|\n",
      "|   1|        0|112300|\n",
      "+----+---------+------+"
     ]
    }
   ],
   "source": [
    "#total counts by test and converted\n",
    "joined1.groupBy(\"test\", \"converted\").count().sort(\"test\").show(20)"
   ]
  },
  {
   "cell_type": "markdown",
   "metadata": {},
   "source": [
    "<font size=\"4\"> Both chi-square test and Fisher's exact test show that there is an association between software price point $39 vs $59 and conversion rate. However, the effect size is very small, 0.02-0.015 = 0.005 or 0.5 %. Since conversion rates for both price points are very simillar, it becomes more profitable to charge a higher price point for this software. </font>"
   ]
  },
  {
   "cell_type": "code",
   "execution_count": 21,
   "metadata": {},
   "outputs": [
    {
     "data": {
      "application/vnd.jupyter.widget-view+json": {
       "model_id": "3af30cb52ebf40ff823b4592f906d77a",
       "version_major": 2,
       "version_minor": 0
      },
      "text/plain": [
       "VBox()"
      ]
     },
     "metadata": {},
     "output_type": "display_data"
    },
    {
     "data": {
      "application/vnd.jupyter.widget-view+json": {
       "model_id": "",
       "version_major": 2,
       "version_minor": 0
      },
      "text/plain": [
       "FloatProgress(value=0.0, bar_style='info', description='Progress:', layout=Layout(height='25px', width='50%'),…"
      ]
     },
     "metadata": {},
     "output_type": "display_data"
    },
    {
     "name": "stdout",
     "output_type": "stream",
     "text": [
      "distance d: 77.13676056788492\n",
      "p-value: 1.5952039442802944e-18"
     ]
    }
   ],
   "source": [
    "# Chi-Square Test\n",
    "from scipy.stats import chi2\n",
    "import numpy as np\n",
    "T = np.array([3716.66, 2091.34, 199010, 111981.66])\n",
    "O = np.array([4035, 1773, 198692, 112300])\n",
    "\n",
    "D = np.sum(np.square(T-O)/T)\n",
    "\n",
    "pvalue = chi2.sf(D, df=1)\n",
    "\n",
    "print(\"distance d: {0}\\np-value: {1}\".format(D,pvalue))"
   ]
  },
  {
   "cell_type": "code",
   "execution_count": 22,
   "metadata": {},
   "outputs": [
    {
     "data": {
      "application/vnd.jupyter.widget-view+json": {
       "model_id": "689021e87a4b43b899da28faed832032",
       "version_major": 2,
       "version_minor": 0
      },
      "text/plain": [
       "VBox()"
      ]
     },
     "metadata": {},
     "output_type": "display_data"
    },
    {
     "data": {
      "application/vnd.jupyter.widget-view+json": {
       "model_id": "",
       "version_major": 2,
       "version_minor": 0
      },
      "text/plain": [
       "FloatProgress(value=0.0, bar_style='info', description='Progress:', layout=Layout(height='25px', width='50%'),…"
      ]
     },
     "metadata": {},
     "output_type": "display_data"
    },
    {
     "name": "stdout",
     "output_type": "stream",
     "text": [
      "1.2862760354580207 6.685400351578837e-19"
     ]
    }
   ],
   "source": [
    "# Fisher's Exact Test\n",
    "from scipy.stats import stats\n",
    "\n",
    "oddsratio, pvalue = stats.fisher_exact([[4035, 1773], [198692, 112300]])\n",
    "print(oddsratio, pvalue)"
   ]
  },
  {
   "cell_type": "markdown",
   "metadata": {},
   "source": [
    "<font size=\"4\"> About 1090 sample size per cell should be used for this A/B test. This means that the test could have been stopped when total user traffic was at least 4360 and it had a stable rolling week sum, both of which occured \n",
    "on Monday 2015-03-09, meaning the data should include the week of Monday 2015-03-09 through Sunday 2015-03-15. </font>"
   ]
  },
  {
   "cell_type": "code",
   "execution_count": 23,
   "metadata": {},
   "outputs": [
    {
     "data": {
      "application/vnd.jupyter.widget-view+json": {
       "model_id": "08ebb202aab94c60bc9dbdd604dccf55",
       "version_major": 2,
       "version_minor": 0
      },
      "text/plain": [
       "VBox()"
      ]
     },
     "metadata": {},
     "output_type": "display_data"
    },
    {
     "data": {
      "application/vnd.jupyter.widget-view+json": {
       "model_id": "",
       "version_major": 2,
       "version_minor": 0
      },
      "text/plain": [
       "FloatProgress(value=0.0, bar_style='info', description='Progress:', layout=Layout(height='25px', width='50%'),…"
      ]
     },
     "metadata": {},
     "output_type": "display_data"
    },
    {
     "name": "stdout",
     "output_type": "stream",
     "text": [
      "Sample Size: 1090.256"
     ]
    }
   ],
   "source": [
    "#Sample Size for power of 80% and a small effect size of 0.1\n",
    "from statsmodels.stats.power import GofChisquarePower\n",
    "effect =0.1\n",
    "alpha = 0.05\n",
    "power = 0.8\n",
    "analysis = GofChisquarePower()\n",
    "result = analysis.solve_power(effect, power=power, n_bins=4, alpha=alpha)\n",
    "print('Sample Size: %.3f' % result)"
   ]
  },
  {
   "cell_type": "code",
   "execution_count": 24,
   "metadata": {},
   "outputs": [
    {
     "data": {
      "application/vnd.jupyter.widget-view+json": {
       "model_id": "be39d66a236b49e78417933a7c7caf1d",
       "version_major": 2,
       "version_minor": 0
      },
      "text/plain": [
       "VBox()"
      ]
     },
     "metadata": {},
     "output_type": "display_data"
    },
    {
     "data": {
      "application/vnd.jupyter.widget-view+json": {
       "model_id": "",
       "version_major": 2,
       "version_minor": 0
      },
      "text/plain": [
       "FloatProgress(value=0.0, bar_style='info', description='Progress:', layout=Layout(height='25px', width='50%'),…"
      ]
     },
     "metadata": {},
     "output_type": "display_data"
    },
    {
     "name": "stdout",
     "output_type": "stream",
     "text": [
      "+-------+----------+--------------+------+----------------+----+-----+---------+------------+-------+\n",
      "|user_id| timestamp|        source|device|operative_system|test|price|converted|        city|country|\n",
      "+-------+----------+--------------+------+----------------+----+-----+---------+------------+-------+\n",
      "|    122|2015-05-06|      ads-bing|mobile|         android|   0|   39|        0|   Inglewood|    USA|\n",
      "|    148|2015-04-26|     ads_other|   web|         windows|   0|   39|        0|Jacksonville|    USA|\n",
      "|    192|2015-04-04|    ads-google|   web|             mac|   0|   39|        0|    Freeport|    USA|\n",
      "|    243|2015-04-02|    seo-google|   web|         windows|   0|   39|        0|  Richardson|    USA|\n",
      "|    444|2015-05-01|direct_traffic|mobile|           other|   0|   39|        0|    New York|    USA|\n",
      "+-------+----------+--------------+------+----------------+----+-----+---------+------------+-------+\n",
      "only showing top 5 rows"
     ]
    }
   ],
   "source": [
    "joined1.show(5)"
   ]
  },
  {
   "cell_type": "code",
   "execution_count": 25,
   "metadata": {},
   "outputs": [
    {
     "data": {
      "application/vnd.jupyter.widget-view+json": {
       "model_id": "61d435df556f4eadb03ab7f9848a04f1",
       "version_major": 2,
       "version_minor": 0
      },
      "text/plain": [
       "VBox()"
      ]
     },
     "metadata": {},
     "output_type": "display_data"
    },
    {
     "data": {
      "application/vnd.jupyter.widget-view+json": {
       "model_id": "",
       "version_major": 2,
       "version_minor": 0
      },
      "text/plain": [
       "FloatProgress(value=0.0, bar_style='info', description='Progress:', layout=Layout(height='25px', width='50%'),…"
      ]
     },
     "metadata": {},
     "output_type": "display_data"
    }
   ],
   "source": [
    "#Sorting *source* column into 4 categories (search, ads, direct_traffic, friend_referral)\n",
    "from pyspark.sql.functions import when\n",
    "joined_source = joined1.withColumn(\"source\",when(joined1.source.like(\"seo%\"), 'search')\\\n",
    "                      .when(joined1.source.like(\"ads%\"), 'ads')\\\n",
    "                      .when(joined1.source.like(\"%direct_traffic%\"), 'direct_traffic')\\\n",
    "                      .when(joined1.source.like(\"%friend_referral%\"), 'friend_referral')\\\n",
    "                      .otherwise('other'))"
   ]
  },
  {
   "cell_type": "markdown",
   "metadata": {},
   "source": [
    "<font size=\"4\">Majority of softwae promotion efforts are focused on ads.</font>"
   ]
  },
  {
   "cell_type": "code",
   "execution_count": 26,
   "metadata": {},
   "outputs": [
    {
     "data": {
      "application/vnd.jupyter.widget-view+json": {
       "model_id": "e4d5c8ca324a4d89bbcdc9284dfed044",
       "version_major": 2,
       "version_minor": 0
      },
      "text/plain": [
       "VBox()"
      ]
     },
     "metadata": {},
     "output_type": "display_data"
    },
    {
     "data": {
      "application/vnd.jupyter.widget-view+json": {
       "model_id": "",
       "version_major": 2,
       "version_minor": 0
      },
      "text/plain": [
       "FloatProgress(value=0.0, bar_style='info', description='Progress:', layout=Layout(height='25px', width='50%'),…"
      ]
     },
     "metadata": {},
     "output_type": "display_data"
    },
    {
     "name": "stdout",
     "output_type": "stream",
     "text": [
      "+---------+---------------+------+\n",
      "|converted|         source| count|\n",
      "+---------+---------------+------+\n",
      "|        0|            ads|108440|\n",
      "|        0| direct_traffic| 38234|\n",
      "|        0|friend_referral| 12587|\n",
      "|        0|         search| 39431|\n",
      "|        1|            ads|  2234|\n",
      "|        1| direct_traffic|   525|\n",
      "|        1|friend_referral|   548|\n",
      "|        1|         search|   728|\n",
      "+---------+---------------+------+"
     ]
    }
   ],
   "source": [
    "# where test is 0 ($39), count by converted and source\n",
    "sources = joined_source.filter(\"test==0\").groupBy(\"converted\", \"source\").count().sort(\"converted\", \"source\")\n",
    "sources.show(20)"
   ]
  },
  {
   "cell_type": "markdown",
   "metadata": {},
   "source": [
    "<font size=\"4\"> It is more effective to promote this software via friend referral (4.2% conversion) as opposed to ads (2% conversion), which is where currently a lot of the money is being spent to promote the software. </font>"
   ]
  },
  {
   "cell_type": "code",
   "execution_count": 27,
   "metadata": {},
   "outputs": [
    {
     "data": {
      "application/vnd.jupyter.widget-view+json": {
       "model_id": "06514ef1a01d4c53ac673d58644090b4",
       "version_major": 2,
       "version_minor": 0
      },
      "text/plain": [
       "VBox()"
      ]
     },
     "metadata": {},
     "output_type": "display_data"
    },
    {
     "data": {
      "application/vnd.jupyter.widget-view+json": {
       "model_id": "",
       "version_major": 2,
       "version_minor": 0
      },
      "text/plain": [
       "FloatProgress(value=0.0, bar_style='info', description='Progress:', layout=Layout(height='25px', width='50%'),…"
      ]
     },
     "metadata": {},
     "output_type": "display_data"
    },
    {
     "name": "stdout",
     "output_type": "stream",
     "text": [
      "+---------+---------------+------+------------------+\n",
      "|converted|         source| count|           percent|\n",
      "+---------+---------------+------+------------------+\n",
      "|        0|            ads|108440| 97.98145905994181|\n",
      "|        0| direct_traffic| 38234| 98.64547588947083|\n",
      "|        0|friend_referral| 12587| 95.82794061667302|\n",
      "|        0|         search| 39431| 98.18720585671954|\n",
      "|        1|            ads|  2234| 2.018540940058189|\n",
      "|        1| direct_traffic|   525|1.3545241105291674|\n",
      "|        1|friend_referral|   548| 4.172059383326989|\n",
      "|        1|         search|   728|1.8127941432804602|\n",
      "+---------+---------------+------+------------------+"
     ]
    }
   ],
   "source": [
    "sources.withColumn('percent', col('count')/sum('count').over(Window.partitionBy(\"source\"))*100)\\\n",
    "        .sort(\"converted\", \"source\").show(20)"
   ]
  },
  {
   "cell_type": "markdown",
   "metadata": {},
   "source": [
    "<font size=\"4\"> Somewhat more traffic occurs via mobile than web. </font>"
   ]
  },
  {
   "cell_type": "code",
   "execution_count": 28,
   "metadata": {},
   "outputs": [
    {
     "data": {
      "application/vnd.jupyter.widget-view+json": {
       "model_id": "4b451b1ed8d14441b4817a17ecf93557",
       "version_major": 2,
       "version_minor": 0
      },
      "text/plain": [
       "VBox()"
      ]
     },
     "metadata": {},
     "output_type": "display_data"
    },
    {
     "data": {
      "application/vnd.jupyter.widget-view+json": {
       "model_id": "",
       "version_major": 2,
       "version_minor": 0
      },
      "text/plain": [
       "FloatProgress(value=0.0, bar_style='info', description='Progress:', layout=Layout(height='25px', width='50%'),…"
      ]
     },
     "metadata": {},
     "output_type": "display_data"
    },
    {
     "name": "stdout",
     "output_type": "stream",
     "text": [
      "+---------+------+------+\n",
      "|converted|device| count|\n",
      "+---------+------+------+\n",
      "|        0|mobile|118086|\n",
      "|        0|   web| 80606|\n",
      "|        1|mobile|  2395|\n",
      "|        1|   web|  1640|\n",
      "+---------+------+------+"
     ]
    }
   ],
   "source": [
    "# Somewhat more traffic occurs via mobile than web.\n",
    "devices = joined_source.filter(\"test==0\").groupBy(\"converted\", \"device\").count().sort(\"converted\", \"device\")\n",
    "devices.show(20)"
   ]
  },
  {
   "cell_type": "markdown",
   "metadata": {},
   "source": [
    "<font size=\"4\"> Conversion rates for mobile and web are simillar, ~2% each. </font>"
   ]
  },
  {
   "cell_type": "code",
   "execution_count": 29,
   "metadata": {},
   "outputs": [
    {
     "data": {
      "application/vnd.jupyter.widget-view+json": {
       "model_id": "6b5468e3146c43db811ad76676aae42f",
       "version_major": 2,
       "version_minor": 0
      },
      "text/plain": [
       "VBox()"
      ]
     },
     "metadata": {},
     "output_type": "display_data"
    },
    {
     "data": {
      "application/vnd.jupyter.widget-view+json": {
       "model_id": "",
       "version_major": 2,
       "version_minor": 0
      },
      "text/plain": [
       "FloatProgress(value=0.0, bar_style='info', description='Progress:', layout=Layout(height='25px', width='50%'),…"
      ]
     },
     "metadata": {},
     "output_type": "display_data"
    },
    {
     "name": "stdout",
     "output_type": "stream",
     "text": [
      "+---------+------+------+------------------+\n",
      "|converted|device| count|           percent|\n",
      "+---------+------+------+------------------+\n",
      "|        0|mobile|118086| 98.01213469343713|\n",
      "|        0|   web| 80606| 98.00598205383848|\n",
      "|        1|mobile|  2395|1.9878653065628606|\n",
      "|        1|   web|  1640|1.9940179461615155|\n",
      "+---------+------+------+------------------+"
     ]
    }
   ],
   "source": [
    "# conversion rates for mobile and web are simillar\n",
    "devices.withColumn('percent', col('count')/sum('count').over(Window.partitionBy(\"device\"))*100)\\\n",
    "        .sort(\"converted\", \"device\").show(20)"
   ]
  },
  {
   "cell_type": "code",
   "execution_count": 30,
   "metadata": {},
   "outputs": [
    {
     "data": {
      "application/vnd.jupyter.widget-view+json": {
       "model_id": "d7412f66197a4e9eb449f7cb190ecccd",
       "version_major": 2,
       "version_minor": 0
      },
      "text/plain": [
       "VBox()"
      ]
     },
     "metadata": {},
     "output_type": "display_data"
    },
    {
     "data": {
      "application/vnd.jupyter.widget-view+json": {
       "model_id": "",
       "version_major": 2,
       "version_minor": 0
      },
      "text/plain": [
       "FloatProgress(value=0.0, bar_style='info', description='Progress:', layout=Layout(height='25px', width='50%'),…"
      ]
     },
     "metadata": {},
     "output_type": "display_data"
    }
   ],
   "source": [
    "os = joined_source.filter(\"test==0\").groupBy(\"converted\", \"operative_system\").count().sort(\"converted\", \"operative_system\")\n"
   ]
  },
  {
   "cell_type": "markdown",
   "metadata": {},
   "source": [
    "<font size=\"4\"> All operating systems convert at similar rates between 1.5% and 2.5%. </font>"
   ]
  },
  {
   "cell_type": "code",
   "execution_count": 31,
   "metadata": {},
   "outputs": [
    {
     "data": {
      "application/vnd.jupyter.widget-view+json": {
       "model_id": "b8b9b45cc4f04ba3a8d8b038575b55b0",
       "version_major": 2,
       "version_minor": 0
      },
      "text/plain": [
       "VBox()"
      ]
     },
     "metadata": {},
     "output_type": "display_data"
    },
    {
     "data": {
      "application/vnd.jupyter.widget-view+json": {
       "model_id": "",
       "version_major": 2,
       "version_minor": 0
      },
      "text/plain": [
       "FloatProgress(value=0.0, bar_style='info', description='Progress:', layout=Layout(height='25px', width='50%'),…"
      ]
     },
     "metadata": {},
     "output_type": "display_data"
    },
    {
     "name": "stdout",
     "output_type": "stream",
     "text": [
      "+---------+----------------+-----+------------------+\n",
      "|converted|operative_system|count|           percent|\n",
      "+---------+----------------+-----+------------------+\n",
      "|        0|         android|47421| 98.36341008089607|\n",
      "|        0|             iOS|60396| 97.64125778029262|\n",
      "|        0|           linux| 2173| 98.45944721341186|\n",
      "|        0|             mac|15949| 97.45203470609802|\n",
      "|        0|           other|10351| 98.59973328253001|\n",
      "|        0|         windows|62402| 98.13023855577046|\n",
      "|        1|         android|  789|1.6365899191039206|\n",
      "|        1|             iOS| 1459|  2.35874221970738|\n",
      "|        1|           linux|   34|1.5405527865881288|\n",
      "|        1|             mac|  417| 2.547965293901992|\n",
      "|        1|           other|  147|1.4002667174699943|\n",
      "|        1|         windows| 1189|1.8697614442295292|\n",
      "+---------+----------------+-----+------------------+"
     ]
    }
   ],
   "source": [
    "os.withColumn('percent', col('count')/sum('count').over(Window.partitionBy(\"operative_system\"))*100)\\\n",
    "        .sort(\"converted\", \"operative_system\").show(20)"
   ]
  },
  {
   "cell_type": "code",
   "execution_count": 32,
   "metadata": {},
   "outputs": [
    {
     "data": {
      "application/vnd.jupyter.widget-view+json": {
       "model_id": "254c52561d4942e48c000b2fcdb04b2d",
       "version_major": 2,
       "version_minor": 0
      },
      "text/plain": [
       "VBox()"
      ]
     },
     "metadata": {},
     "output_type": "display_data"
    },
    {
     "data": {
      "application/vnd.jupyter.widget-view+json": {
       "model_id": "",
       "version_major": 2,
       "version_minor": 0
      },
      "text/plain": [
       "FloatProgress(value=0.0, bar_style='info', description='Progress:', layout=Layout(height='25px', width='50%'),…"
      ]
     },
     "metadata": {},
     "output_type": "display_data"
    },
    {
     "name": "stdout",
     "output_type": "stream",
     "text": [
      "+-------+----------+--------------+------+----------------+----+-----+---------+------------+-------+\n",
      "|user_id| timestamp|        source|device|operative_system|test|price|converted|        city|country|\n",
      "+-------+----------+--------------+------+----------------+----+-----+---------+------------+-------+\n",
      "|    122|2015-05-06|           ads|mobile|         android|   0|   39|        0|   Inglewood|    USA|\n",
      "|    148|2015-04-26|           ads|   web|         windows|   0|   39|        0|Jacksonville|    USA|\n",
      "|    192|2015-04-04|           ads|   web|             mac|   0|   39|        0|    Freeport|    USA|\n",
      "|    243|2015-04-02|        search|   web|         windows|   0|   39|        0|  Richardson|    USA|\n",
      "|    444|2015-05-01|direct_traffic|mobile|           other|   0|   39|        0|    New York|    USA|\n",
      "+-------+----------+--------------+------+----------------+----+-----+---------+------------+-------+\n",
      "only showing top 5 rows"
     ]
    }
   ],
   "source": [
    "joined_source.show(5)"
   ]
  },
  {
   "cell_type": "code",
   "execution_count": 33,
   "metadata": {},
   "outputs": [
    {
     "data": {
      "application/vnd.jupyter.widget-view+json": {
       "model_id": "dbc5e5f233dc4a0497671b1e709aa760",
       "version_major": 2,
       "version_minor": 0
      },
      "text/plain": [
       "VBox()"
      ]
     },
     "metadata": {},
     "output_type": "display_data"
    },
    {
     "data": {
      "application/vnd.jupyter.widget-view+json": {
       "model_id": "",
       "version_major": 2,
       "version_minor": 0
      },
      "text/plain": [
       "FloatProgress(value=0.0, bar_style='info', description='Progress:', layout=Layout(height='25px', width='50%'),…"
      ]
     },
     "metadata": {},
     "output_type": "display_data"
    }
   ],
   "source": [
    "# Grouping by converted, source and operating system\n",
    "\n",
    "sourceANDos = joined_source.filter(\"test==0\").groupBy(\"converted\", \"source\", \"operative_system\").count().sort(\"converted\", \"source\", \"operative_system\")\n"
   ]
  },
  {
   "cell_type": "markdown",
   "metadata": {},
   "source": [
    "<font size=\"4\"> Calculating percent converted by source and operating system when software price is $39. Friend referrals convert at high rate than any other source, and within that linux users converting at the highest rate of all, 5.1%. </font>"
   ]
  },
  {
   "cell_type": "code",
   "execution_count": 34,
   "metadata": {},
   "outputs": [
    {
     "data": {
      "application/vnd.jupyter.widget-view+json": {
       "model_id": "77375959c71c40bdbbab7e4db1a586b2",
       "version_major": 2,
       "version_minor": 0
      },
      "text/plain": [
       "VBox()"
      ]
     },
     "metadata": {},
     "output_type": "display_data"
    },
    {
     "data": {
      "application/vnd.jupyter.widget-view+json": {
       "model_id": "",
       "version_major": 2,
       "version_minor": 0
      },
      "text/plain": [
       "FloatProgress(value=0.0, bar_style='info', description='Progress:', layout=Layout(height='25px', width='50%'),…"
      ]
     },
     "metadata": {},
     "output_type": "display_data"
    },
    {
     "name": "stdout",
     "output_type": "stream",
     "text": [
      "+---------+---------------+----------------+-----+------------------+\n",
      "|converted|         source|operative_system|count|           percent|\n",
      "+---------+---------------+----------------+-----+------------------+\n",
      "|        1|            ads|         android|  439|1.6966839298137126|\n",
      "|        1|            ads|             iOS|  804|2.3584628923437956|\n",
      "|        1|            ads|           linux|   18|1.4434643143544506|\n",
      "|        1|            ads|             mac|  228|2.6009582477754964|\n",
      "|        1|            ads|           other|   88|1.5130674002751032|\n",
      "|        1|            ads|         windows|  657|1.8835469166594996|\n",
      "|        1| direct_traffic|         android|   88|0.9360706307839592|\n",
      "|        1| direct_traffic|             iOS|  198|1.6747018523217458|\n",
      "|        1| direct_traffic|           linux|    4|1.0666666666666667|\n",
      "|        1| direct_traffic|             mac|   64|2.0466901183242725|\n",
      "|        1| direct_traffic|           other|   16|0.7862407862407862|\n",
      "|        1| direct_traffic|         windows|  155|1.2918819803300552|\n",
      "|        1|friend_referral|         android|  130| 4.107424960505529|\n",
      "|        1|friend_referral|             iOS|  185| 4.521016617790812|\n",
      "|        1|friend_referral|           linux|    7| 5.072463768115942|\n",
      "|        1|friend_referral|             mac|   44|3.8630377524143986|\n",
      "|        1|friend_referral|           other|   17|3.1192660550458715|\n",
      "|        1|friend_referral|         windows|  165| 4.068047337278107|\n",
      "|        1|         search|         android|  132|1.3510747185261003|\n",
      "|        1|         search|             iOS|  272|2.2953586497890295|\n",
      "|        1|         search|           linux|    5|1.1185682326621924|\n",
      "|        1|         search|             mac|   81|2.4295140971805638|\n",
      "|        1|         search|           other|   26| 1.236917221693625|\n",
      "|        1|         search|         windows|  212| 1.675094816687737|\n",
      "+---------+---------------+----------------+-----+------------------+"
     ]
    }
   ],
   "source": [
    "# Calculating percent converted by source and operating system\n",
    "sourceANDos.withColumn('percent', col('count')/sum('count').over(Window.partitionBy(\"source\",\"operative_system\"))*100)\\\n",
    "        .sort(\"converted\", \"source\", \"operative_system\").filter(\"converted==1\").show(100)"
   ]
  },
  {
   "cell_type": "markdown",
   "metadata": {},
   "source": [
    "<font size=\"4\"> Calculating percent converted by source and operating system when software price is higher. \n",
    "Here, even though more linux users were friend referred (231) as compared when the price was lower (131), no linux user bought the software at the higher price point. In addition, no linux software user, whatever the source, bought the software at a higher price. However, other operating systems user conversion rates were similar for the two price points. </font>"
   ]
  },
  {
   "cell_type": "code",
   "execution_count": 35,
   "metadata": {},
   "outputs": [
    {
     "data": {
      "application/vnd.jupyter.widget-view+json": {
       "model_id": "ead7c1c086824630b8d513c921ef8566",
       "version_major": 2,
       "version_minor": 0
      },
      "text/plain": [
       "VBox()"
      ]
     },
     "metadata": {},
     "output_type": "display_data"
    },
    {
     "data": {
      "application/vnd.jupyter.widget-view+json": {
       "model_id": "",
       "version_major": 2,
       "version_minor": 0
      },
      "text/plain": [
       "FloatProgress(value=0.0, bar_style='info', description='Progress:', layout=Layout(height='25px', width='50%'),…"
      ]
     },
     "metadata": {},
     "output_type": "display_data"
    },
    {
     "name": "stdout",
     "output_type": "stream",
     "text": [
      "+---------+---------------+----------------+-----+------------------+\n",
      "|converted|         source|operative_system|count|           percent|\n",
      "+---------+---------------+----------------+-----+------------------+\n",
      "|        1|            ads|         android|  182| 1.243509155506969|\n",
      "|        1|            ads|             iOS|  373|2.0158893152461763|\n",
      "|        1|            ads|             mac|   97|1.9631653511434932|\n",
      "|        1|            ads|           other|   30| 0.975292587776333|\n",
      "|        1|            ads|         windows|  307|1.5138813550964052|\n",
      "|        1| direct_traffic|         android|   36|0.6857142857142857|\n",
      "|        1| direct_traffic|             iOS|   85|1.3659006909850553|\n",
      "|        1| direct_traffic|             mac|   25|1.6244314489928524|\n",
      "|        1| direct_traffic|           other|    9|0.8364312267657992|\n",
      "|        1| direct_traffic|         windows|   63|0.8796425579447082|\n",
      "|        1|friend_referral|         android|   51|3.0778515389257697|\n",
      "|        1|friend_referral|             iOS|   94|4.1945560017849175|\n",
      "|        1|friend_referral|             mac|   27| 4.470198675496689|\n",
      "|        1|friend_referral|           other|   11| 3.170028818443804|\n",
      "|        1|friend_referral|         windows|   70|  2.82258064516129|\n",
      "|        1|         search|         android|   61|1.1771516788884602|\n",
      "|        1|         search|             iOS|  120|1.8064127653168747|\n",
      "|        1|         search|             mac|   36|2.2018348623853212|\n",
      "|        1|         search|           other|   13|1.0770505385252693|\n",
      "|        1|         search|         windows|   83|1.1120042872454448|\n",
      "+---------+---------------+----------------+-----+------------------+"
     ]
    }
   ],
   "source": [
    "sourceANDos1 = joined_source.filter(\"test==1\").groupBy(\"converted\", \"source\", \"operative_system\").count().sort(\"converted\", \"source\", \"operative_system\")\n",
    "sourceANDos1.withColumn('percent', col('count')/sum('count').over(Window.partitionBy(\"source\",\"operative_system\"))*100)\\\n",
    "        .sort(\"converted\", \"source\", \"operative_system\").filter(\"converted==1\").show(100)"
   ]
  },
  {
   "cell_type": "code",
   "execution_count": null,
   "metadata": {},
   "outputs": [],
   "source": []
  }
 ],
 "metadata": {
  "kernelspec": {
   "display_name": "PySpark",
   "language": "",
   "name": "pysparkkernel"
  },
  "language_info": {
   "codemirror_mode": {
    "name": "python",
    "version": 2
   },
   "mimetype": "text/x-python",
   "name": "pyspark",
   "pygments_lexer": "python2"
  }
 },
 "nbformat": 4,
 "nbformat_minor": 4
}
